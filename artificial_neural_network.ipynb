{
  "cells": [
    {
      "cell_type": "markdown",
      "metadata": {
        "id": "xMT_xQXF85AE"
      },
      "source": [
        "# Build an Artificial Neural Network\n",
        "## Classifying Dates \n",
        "In this project, we will build a neural network to classify dates. We'll use the “Date Fruit Dataset” available on Kaggle for this. This dataset includes samples of dates that can be classified into 7 classes according to their types."
      ]
    },
    {
      "cell_type": "markdown",
      "metadata": {
        "id": "kVctqtiXg1AF"
      },
      "source": [
        "## Importing the required libraries\n",
        "We'll start with importing required libraries.\n",
        "\n",
        "📌 Use the keywords \"import\" and \"from\"."
      ]
    },
    {
      "cell_type": "code",
      "execution_count": 1,
      "metadata": {
        "id": "0IPLr7JHg0wn"
      },
      "outputs": [],
      "source": [
        "# Import Pandas and Matplotlib\n",
        "import pandas as pd\n",
        "import matplotlib.pyplot as plt\n",
        "# Import Label Encoder and train_test_split\n",
        "from sklearn.preprocessing import LabelEncoder, minmax_scale\n",
        "from sklearn.model_selection import train_test_split"
      ]
    },
    {
      "cell_type": "markdown",
      "metadata": {
        "id": "AcMYUXN-cykx"
      },
      "source": [
        "## Dataset\n",
        "Let's load the .xlsx file.\n",
        "\n",
        "📌 Use the read_excel() function of the Pandas library."
      ]
    },
    {
      "cell_type": "code",
      "execution_count": 3,
      "metadata": {
        "id": "vzD6tUiPg6hl"
      },
      "outputs": [],
      "source": [
        "# Read the \"date_fruit.xlsx\" file\n",
        "data = pd.read_excel(\"date_fruit.xlsx\")"
      ]
    },
    {
      "cell_type": "markdown",
      "metadata": {
        "id": "xNjjBGzIcvAb"
      },
      "source": [
        "Next, we take a look at the dataset.\n",
        "\n",
        "📌 Use the data.head() function.\n",
        "\n",
        "📌 Use .shape attribute and .unique() methods."
      ]
    },
    {
      "cell_type": "code",
      "execution_count": 4,
      "metadata": {
        "id": "tCmbPFCQhCW3",
        "colab": {
          "base_uri": "https://localhost:8080/",
          "height": 300
        },
        "outputId": "7622cfcf-0574-4cc3-c2c7-6b55a71764ee"
      },
      "outputs": [
        {
          "output_type": "execute_result",
          "data": {
            "text/plain": [
              "     AREA  PERIMETER  MAJOR_AXIS  MINOR_AXIS  ECCENTRICITY   EQDIASQ  \\\n",
              "0  422163   2378.908    837.8484    645.6693        0.6373  733.1539   \n",
              "1  338136   2085.144    723.8198    595.2073        0.5690  656.1464   \n",
              "2  526843   2647.394    940.7379    715.3638        0.6494  819.0222   \n",
              "3  416063   2351.210    827.9804    645.2988        0.6266  727.8378   \n",
              "4  347562   2160.354    763.9877    582.8359        0.6465  665.2291   \n",
              "\n",
              "   SOLIDITY  CONVEX_AREA  EXTENT  ASPECT_RATIO  ...  KurtosisRR  KurtosisRG  \\\n",
              "0    0.9947       424428  0.7831        1.2976  ...      3.2370      2.9574   \n",
              "1    0.9974       339014  0.7795        1.2161  ...      2.6228      2.6350   \n",
              "2    0.9962       528876  0.7657        1.3150  ...      3.7516      3.8611   \n",
              "3    0.9948       418255  0.7759        1.2831  ...      5.0401      8.6136   \n",
              "4    0.9908       350797  0.7569        1.3108  ...      2.7016      2.9761   \n",
              "\n",
              "   KurtosisRB    EntropyRR    EntropyRG    EntropyRB  ALLdaub4RR  ALLdaub4RG  \\\n",
              "0      4.2287 -59191263232 -50714214400 -39922372608     58.7255     54.9554   \n",
              "1      3.1704 -34233065472 -37462601728 -31477794816     50.0259     52.8168   \n",
              "2      4.7192 -93948354560 -74738221056 -60311207936     65.4772     59.2860   \n",
              "3      8.2618 -32074307584 -32060925952 -29575010304     43.3900     44.1259   \n",
              "4      4.4146 -39980974080 -35980042240 -25593278464     52.7743     50.9080   \n",
              "\n",
              "   ALLdaub4RB  Class  \n",
              "0     47.8400  BERHI  \n",
              "1     47.8315  BERHI  \n",
              "2     51.9378  BERHI  \n",
              "3     41.1882  BERHI  \n",
              "4     42.6666  BERHI  \n",
              "\n",
              "[5 rows x 35 columns]"
            ],
            "text/html": [
              "\n",
              "  <div id=\"df-ccff7fdb-6dbe-42ff-861b-68a5e38bf720\">\n",
              "    <div class=\"colab-df-container\">\n",
              "      <div>\n",
              "<style scoped>\n",
              "    .dataframe tbody tr th:only-of-type {\n",
              "        vertical-align: middle;\n",
              "    }\n",
              "\n",
              "    .dataframe tbody tr th {\n",
              "        vertical-align: top;\n",
              "    }\n",
              "\n",
              "    .dataframe thead th {\n",
              "        text-align: right;\n",
              "    }\n",
              "</style>\n",
              "<table border=\"1\" class=\"dataframe\">\n",
              "  <thead>\n",
              "    <tr style=\"text-align: right;\">\n",
              "      <th></th>\n",
              "      <th>AREA</th>\n",
              "      <th>PERIMETER</th>\n",
              "      <th>MAJOR_AXIS</th>\n",
              "      <th>MINOR_AXIS</th>\n",
              "      <th>ECCENTRICITY</th>\n",
              "      <th>EQDIASQ</th>\n",
              "      <th>SOLIDITY</th>\n",
              "      <th>CONVEX_AREA</th>\n",
              "      <th>EXTENT</th>\n",
              "      <th>ASPECT_RATIO</th>\n",
              "      <th>...</th>\n",
              "      <th>KurtosisRR</th>\n",
              "      <th>KurtosisRG</th>\n",
              "      <th>KurtosisRB</th>\n",
              "      <th>EntropyRR</th>\n",
              "      <th>EntropyRG</th>\n",
              "      <th>EntropyRB</th>\n",
              "      <th>ALLdaub4RR</th>\n",
              "      <th>ALLdaub4RG</th>\n",
              "      <th>ALLdaub4RB</th>\n",
              "      <th>Class</th>\n",
              "    </tr>\n",
              "  </thead>\n",
              "  <tbody>\n",
              "    <tr>\n",
              "      <th>0</th>\n",
              "      <td>422163</td>\n",
              "      <td>2378.908</td>\n",
              "      <td>837.8484</td>\n",
              "      <td>645.6693</td>\n",
              "      <td>0.6373</td>\n",
              "      <td>733.1539</td>\n",
              "      <td>0.9947</td>\n",
              "      <td>424428</td>\n",
              "      <td>0.7831</td>\n",
              "      <td>1.2976</td>\n",
              "      <td>...</td>\n",
              "      <td>3.2370</td>\n",
              "      <td>2.9574</td>\n",
              "      <td>4.2287</td>\n",
              "      <td>-59191263232</td>\n",
              "      <td>-50714214400</td>\n",
              "      <td>-39922372608</td>\n",
              "      <td>58.7255</td>\n",
              "      <td>54.9554</td>\n",
              "      <td>47.8400</td>\n",
              "      <td>BERHI</td>\n",
              "    </tr>\n",
              "    <tr>\n",
              "      <th>1</th>\n",
              "      <td>338136</td>\n",
              "      <td>2085.144</td>\n",
              "      <td>723.8198</td>\n",
              "      <td>595.2073</td>\n",
              "      <td>0.5690</td>\n",
              "      <td>656.1464</td>\n",
              "      <td>0.9974</td>\n",
              "      <td>339014</td>\n",
              "      <td>0.7795</td>\n",
              "      <td>1.2161</td>\n",
              "      <td>...</td>\n",
              "      <td>2.6228</td>\n",
              "      <td>2.6350</td>\n",
              "      <td>3.1704</td>\n",
              "      <td>-34233065472</td>\n",
              "      <td>-37462601728</td>\n",
              "      <td>-31477794816</td>\n",
              "      <td>50.0259</td>\n",
              "      <td>52.8168</td>\n",
              "      <td>47.8315</td>\n",
              "      <td>BERHI</td>\n",
              "    </tr>\n",
              "    <tr>\n",
              "      <th>2</th>\n",
              "      <td>526843</td>\n",
              "      <td>2647.394</td>\n",
              "      <td>940.7379</td>\n",
              "      <td>715.3638</td>\n",
              "      <td>0.6494</td>\n",
              "      <td>819.0222</td>\n",
              "      <td>0.9962</td>\n",
              "      <td>528876</td>\n",
              "      <td>0.7657</td>\n",
              "      <td>1.3150</td>\n",
              "      <td>...</td>\n",
              "      <td>3.7516</td>\n",
              "      <td>3.8611</td>\n",
              "      <td>4.7192</td>\n",
              "      <td>-93948354560</td>\n",
              "      <td>-74738221056</td>\n",
              "      <td>-60311207936</td>\n",
              "      <td>65.4772</td>\n",
              "      <td>59.2860</td>\n",
              "      <td>51.9378</td>\n",
              "      <td>BERHI</td>\n",
              "    </tr>\n",
              "    <tr>\n",
              "      <th>3</th>\n",
              "      <td>416063</td>\n",
              "      <td>2351.210</td>\n",
              "      <td>827.9804</td>\n",
              "      <td>645.2988</td>\n",
              "      <td>0.6266</td>\n",
              "      <td>727.8378</td>\n",
              "      <td>0.9948</td>\n",
              "      <td>418255</td>\n",
              "      <td>0.7759</td>\n",
              "      <td>1.2831</td>\n",
              "      <td>...</td>\n",
              "      <td>5.0401</td>\n",
              "      <td>8.6136</td>\n",
              "      <td>8.2618</td>\n",
              "      <td>-32074307584</td>\n",
              "      <td>-32060925952</td>\n",
              "      <td>-29575010304</td>\n",
              "      <td>43.3900</td>\n",
              "      <td>44.1259</td>\n",
              "      <td>41.1882</td>\n",
              "      <td>BERHI</td>\n",
              "    </tr>\n",
              "    <tr>\n",
              "      <th>4</th>\n",
              "      <td>347562</td>\n",
              "      <td>2160.354</td>\n",
              "      <td>763.9877</td>\n",
              "      <td>582.8359</td>\n",
              "      <td>0.6465</td>\n",
              "      <td>665.2291</td>\n",
              "      <td>0.9908</td>\n",
              "      <td>350797</td>\n",
              "      <td>0.7569</td>\n",
              "      <td>1.3108</td>\n",
              "      <td>...</td>\n",
              "      <td>2.7016</td>\n",
              "      <td>2.9761</td>\n",
              "      <td>4.4146</td>\n",
              "      <td>-39980974080</td>\n",
              "      <td>-35980042240</td>\n",
              "      <td>-25593278464</td>\n",
              "      <td>52.7743</td>\n",
              "      <td>50.9080</td>\n",
              "      <td>42.6666</td>\n",
              "      <td>BERHI</td>\n",
              "    </tr>\n",
              "  </tbody>\n",
              "</table>\n",
              "<p>5 rows × 35 columns</p>\n",
              "</div>\n",
              "      <button class=\"colab-df-convert\" onclick=\"convertToInteractive('df-ccff7fdb-6dbe-42ff-861b-68a5e38bf720')\"\n",
              "              title=\"Convert this dataframe to an interactive table.\"\n",
              "              style=\"display:none;\">\n",
              "        \n",
              "  <svg xmlns=\"http://www.w3.org/2000/svg\" height=\"24px\"viewBox=\"0 0 24 24\"\n",
              "       width=\"24px\">\n",
              "    <path d=\"M0 0h24v24H0V0z\" fill=\"none\"/>\n",
              "    <path d=\"M18.56 5.44l.94 2.06.94-2.06 2.06-.94-2.06-.94-.94-2.06-.94 2.06-2.06.94zm-11 1L8.5 8.5l.94-2.06 2.06-.94-2.06-.94L8.5 2.5l-.94 2.06-2.06.94zm10 10l.94 2.06.94-2.06 2.06-.94-2.06-.94-.94-2.06-.94 2.06-2.06.94z\"/><path d=\"M17.41 7.96l-1.37-1.37c-.4-.4-.92-.59-1.43-.59-.52 0-1.04.2-1.43.59L10.3 9.45l-7.72 7.72c-.78.78-.78 2.05 0 2.83L4 21.41c.39.39.9.59 1.41.59.51 0 1.02-.2 1.41-.59l7.78-7.78 2.81-2.81c.8-.78.8-2.07 0-2.86zM5.41 20L4 18.59l7.72-7.72 1.47 1.35L5.41 20z\"/>\n",
              "  </svg>\n",
              "      </button>\n",
              "      \n",
              "  <style>\n",
              "    .colab-df-container {\n",
              "      display:flex;\n",
              "      flex-wrap:wrap;\n",
              "      gap: 12px;\n",
              "    }\n",
              "\n",
              "    .colab-df-convert {\n",
              "      background-color: #E8F0FE;\n",
              "      border: none;\n",
              "      border-radius: 50%;\n",
              "      cursor: pointer;\n",
              "      display: none;\n",
              "      fill: #1967D2;\n",
              "      height: 32px;\n",
              "      padding: 0 0 0 0;\n",
              "      width: 32px;\n",
              "    }\n",
              "\n",
              "    .colab-df-convert:hover {\n",
              "      background-color: #E2EBFA;\n",
              "      box-shadow: 0px 1px 2px rgba(60, 64, 67, 0.3), 0px 1px 3px 1px rgba(60, 64, 67, 0.15);\n",
              "      fill: #174EA6;\n",
              "    }\n",
              "\n",
              "    [theme=dark] .colab-df-convert {\n",
              "      background-color: #3B4455;\n",
              "      fill: #D2E3FC;\n",
              "    }\n",
              "\n",
              "    [theme=dark] .colab-df-convert:hover {\n",
              "      background-color: #434B5C;\n",
              "      box-shadow: 0px 1px 3px 1px rgba(0, 0, 0, 0.15);\n",
              "      filter: drop-shadow(0px 1px 2px rgba(0, 0, 0, 0.3));\n",
              "      fill: #FFFFFF;\n",
              "    }\n",
              "  </style>\n",
              "\n",
              "      <script>\n",
              "        const buttonEl =\n",
              "          document.querySelector('#df-ccff7fdb-6dbe-42ff-861b-68a5e38bf720 button.colab-df-convert');\n",
              "        buttonEl.style.display =\n",
              "          google.colab.kernel.accessAllowed ? 'block' : 'none';\n",
              "\n",
              "        async function convertToInteractive(key) {\n",
              "          const element = document.querySelector('#df-ccff7fdb-6dbe-42ff-861b-68a5e38bf720');\n",
              "          const dataTable =\n",
              "            await google.colab.kernel.invokeFunction('convertToInteractive',\n",
              "                                                     [key], {});\n",
              "          if (!dataTable) return;\n",
              "\n",
              "          const docLinkHtml = 'Like what you see? Visit the ' +\n",
              "            '<a target=\"_blank\" href=https://colab.research.google.com/notebooks/data_table.ipynb>data table notebook</a>'\n",
              "            + ' to learn more about interactive tables.';\n",
              "          element.innerHTML = '';\n",
              "          dataTable['output_type'] = 'display_data';\n",
              "          await google.colab.output.renderOutput(dataTable, element);\n",
              "          const docLink = document.createElement('div');\n",
              "          docLink.innerHTML = docLinkHtml;\n",
              "          element.appendChild(docLink);\n",
              "        }\n",
              "      </script>\n",
              "    </div>\n",
              "  </div>\n",
              "  "
            ]
          },
          "metadata": {},
          "execution_count": 4
        }
      ],
      "source": [
        "# Use the head() function to display the first 5 rows of the data\n",
        "data.head()"
      ]
    },
    {
      "cell_type": "code",
      "execution_count": 5,
      "metadata": {
        "id": "oPZLZ3TNyp0S",
        "colab": {
          "base_uri": "https://localhost:8080/"
        },
        "outputId": "26070bd4-84b2-4e85-93ba-48740dc2a724"
      },
      "outputs": [
        {
          "output_type": "stream",
          "name": "stdout",
          "text": [
            "(898, 35)\n"
          ]
        },
        {
          "output_type": "execute_result",
          "data": {
            "text/plain": [
              "array(['BERHI', 'DEGLET', 'DOKOL', 'IRAQI', 'ROTANA', 'SAFAVI', 'SOGAY'],\n",
              "      dtype=object)"
            ]
          },
          "metadata": {},
          "execution_count": 5
        }
      ],
      "source": [
        "# Print the shape of the data and classes\n",
        "print(data.shape)\n",
        "data[\"Class\"].unique()"
      ]
    },
    {
      "cell_type": "markdown",
      "metadata": {
        "id": "FHRqIV5oc11d"
      },
      "source": [
        "## Preprocessing\n",
        "\n",
        "Now that we have a better understanding of our data, let’s split the dataset into features and labels.\n",
        "\n",
        "📌 Create X and y datasets using .drop() and .loc() methods"
      ]
    },
    {
      "cell_type": "code",
      "execution_count": 6,
      "metadata": {
        "id": "GIfZOgi8hCUe"
      },
      "outputs": [],
      "source": [
        "# Create the features dataset\n",
        "X = data.drop(\"Class\",axis=1)\n",
        "\n",
        "# Create the labels dataset\n",
        "y = data.loc[:, \"Class\"]"
      ]
    },
    {
      "cell_type": "markdown",
      "metadata": {
        "id": "jGJWgaFAtTwR"
      },
      "source": [
        "### Feature scaling\n",
        "\n",
        "Having features in different units or ranges can be problematic in deep learning. We need to scale all of the values between the 0 and 1 range.\n",
        "\n",
        "📌 Use the minmax_scale() function of the sklearn library.\n"
      ]
    },
    {
      "cell_type": "code",
      "execution_count": 7,
      "metadata": {
        "id": "8-EJKybGao0M"
      },
      "outputs": [],
      "source": [
        "# Normalize the features dataset and assign it to a variable\n",
        "X_scaled = minmax_scale(X)\n",
        "\n",
        "# Create a DataFrame using the new variable\n",
        "X = pd.DataFrame(X_scaled)"
      ]
    },
    {
      "cell_type": "markdown",
      "metadata": {
        "id": "yXmMewPc52gj"
      },
      "source": [
        "Then, we print the X data again so we can see the difference.\n",
        "\n",
        "📌 Use the .head() method."
      ]
    },
    {
      "cell_type": "code",
      "execution_count": 8,
      "metadata": {
        "id": "dP0EUH-Sawtx",
        "colab": {
          "base_uri": "https://localhost:8080/",
          "height": 300
        },
        "outputId": "3248cd0f-d8a8-47e6-ef63-c5b5a5ee9629"
      },
      "outputs": [
        {
          "output_type": "execute_result",
          "data": {
            "text/plain": [
              "         0         1         2         3         4         5         6   \\\n",
              "0  0.772274  0.772079  0.565604  0.841941  0.446429  0.871512  0.983209   \n",
              "1  0.617835  0.617480  0.436904  0.775906  0.342186  0.773229  1.000000   \n",
              "2  0.964674  0.913374  0.681733  0.933143  0.464896  0.981104  0.992537   \n",
              "3  0.761063  0.757502  0.554467  0.841456  0.430098  0.864727  0.983831   \n",
              "4  0.635159  0.657060  0.482240  0.759716  0.460470  0.784821  0.958955   \n",
              "\n",
              "         7         8         9   ...        24        25        26        27  \\\n",
              "0  0.767108  0.787438  0.000435  ...  0.395739  0.062495  0.053715  0.080752   \n",
              "1  0.611906  0.776970  0.000282  ...  0.350002  0.037387  0.040885  0.046033   \n",
              "2  0.956896  0.736842  0.000467  ...  0.472509  0.083531  0.089677  0.096843   \n",
              "3  0.755891  0.766502  0.000408  ...  0.687121  0.136202  0.278800  0.213061   \n",
              "4  0.633316  0.711253  0.000459  ...  0.464794  0.040608  0.054459  0.086850   \n",
              "\n",
              "         28        29        30        31        32        33  \n",
              "0  0.458253  0.455197  0.546327  0.673513  0.550537  0.494665  \n",
              "1  0.687312  0.599151  0.643352  0.538923  0.516341  0.494501  \n",
              "2  0.139263  0.194220  0.312066  0.777967  0.619782  0.573507  \n",
              "3  0.707125  0.657830  0.665214  0.436260  0.377376  0.366683  \n",
              "4  0.634560  0.615256  0.710963  0.581443  0.485820  0.395128  \n",
              "\n",
              "[5 rows x 34 columns]"
            ],
            "text/html": [
              "\n",
              "  <div id=\"df-7301c45f-5f70-4449-bad4-9eee6557d6be\">\n",
              "    <div class=\"colab-df-container\">\n",
              "      <div>\n",
              "<style scoped>\n",
              "    .dataframe tbody tr th:only-of-type {\n",
              "        vertical-align: middle;\n",
              "    }\n",
              "\n",
              "    .dataframe tbody tr th {\n",
              "        vertical-align: top;\n",
              "    }\n",
              "\n",
              "    .dataframe thead th {\n",
              "        text-align: right;\n",
              "    }\n",
              "</style>\n",
              "<table border=\"1\" class=\"dataframe\">\n",
              "  <thead>\n",
              "    <tr style=\"text-align: right;\">\n",
              "      <th></th>\n",
              "      <th>0</th>\n",
              "      <th>1</th>\n",
              "      <th>2</th>\n",
              "      <th>3</th>\n",
              "      <th>4</th>\n",
              "      <th>5</th>\n",
              "      <th>6</th>\n",
              "      <th>7</th>\n",
              "      <th>8</th>\n",
              "      <th>9</th>\n",
              "      <th>...</th>\n",
              "      <th>24</th>\n",
              "      <th>25</th>\n",
              "      <th>26</th>\n",
              "      <th>27</th>\n",
              "      <th>28</th>\n",
              "      <th>29</th>\n",
              "      <th>30</th>\n",
              "      <th>31</th>\n",
              "      <th>32</th>\n",
              "      <th>33</th>\n",
              "    </tr>\n",
              "  </thead>\n",
              "  <tbody>\n",
              "    <tr>\n",
              "      <th>0</th>\n",
              "      <td>0.772274</td>\n",
              "      <td>0.772079</td>\n",
              "      <td>0.565604</td>\n",
              "      <td>0.841941</td>\n",
              "      <td>0.446429</td>\n",
              "      <td>0.871512</td>\n",
              "      <td>0.983209</td>\n",
              "      <td>0.767108</td>\n",
              "      <td>0.787438</td>\n",
              "      <td>0.000435</td>\n",
              "      <td>...</td>\n",
              "      <td>0.395739</td>\n",
              "      <td>0.062495</td>\n",
              "      <td>0.053715</td>\n",
              "      <td>0.080752</td>\n",
              "      <td>0.458253</td>\n",
              "      <td>0.455197</td>\n",
              "      <td>0.546327</td>\n",
              "      <td>0.673513</td>\n",
              "      <td>0.550537</td>\n",
              "      <td>0.494665</td>\n",
              "    </tr>\n",
              "    <tr>\n",
              "      <th>1</th>\n",
              "      <td>0.617835</td>\n",
              "      <td>0.617480</td>\n",
              "      <td>0.436904</td>\n",
              "      <td>0.775906</td>\n",
              "      <td>0.342186</td>\n",
              "      <td>0.773229</td>\n",
              "      <td>1.000000</td>\n",
              "      <td>0.611906</td>\n",
              "      <td>0.776970</td>\n",
              "      <td>0.000282</td>\n",
              "      <td>...</td>\n",
              "      <td>0.350002</td>\n",
              "      <td>0.037387</td>\n",
              "      <td>0.040885</td>\n",
              "      <td>0.046033</td>\n",
              "      <td>0.687312</td>\n",
              "      <td>0.599151</td>\n",
              "      <td>0.643352</td>\n",
              "      <td>0.538923</td>\n",
              "      <td>0.516341</td>\n",
              "      <td>0.494501</td>\n",
              "    </tr>\n",
              "    <tr>\n",
              "      <th>2</th>\n",
              "      <td>0.964674</td>\n",
              "      <td>0.913374</td>\n",
              "      <td>0.681733</td>\n",
              "      <td>0.933143</td>\n",
              "      <td>0.464896</td>\n",
              "      <td>0.981104</td>\n",
              "      <td>0.992537</td>\n",
              "      <td>0.956896</td>\n",
              "      <td>0.736842</td>\n",
              "      <td>0.000467</td>\n",
              "      <td>...</td>\n",
              "      <td>0.472509</td>\n",
              "      <td>0.083531</td>\n",
              "      <td>0.089677</td>\n",
              "      <td>0.096843</td>\n",
              "      <td>0.139263</td>\n",
              "      <td>0.194220</td>\n",
              "      <td>0.312066</td>\n",
              "      <td>0.777967</td>\n",
              "      <td>0.619782</td>\n",
              "      <td>0.573507</td>\n",
              "    </tr>\n",
              "    <tr>\n",
              "      <th>3</th>\n",
              "      <td>0.761063</td>\n",
              "      <td>0.757502</td>\n",
              "      <td>0.554467</td>\n",
              "      <td>0.841456</td>\n",
              "      <td>0.430098</td>\n",
              "      <td>0.864727</td>\n",
              "      <td>0.983831</td>\n",
              "      <td>0.755891</td>\n",
              "      <td>0.766502</td>\n",
              "      <td>0.000408</td>\n",
              "      <td>...</td>\n",
              "      <td>0.687121</td>\n",
              "      <td>0.136202</td>\n",
              "      <td>0.278800</td>\n",
              "      <td>0.213061</td>\n",
              "      <td>0.707125</td>\n",
              "      <td>0.657830</td>\n",
              "      <td>0.665214</td>\n",
              "      <td>0.436260</td>\n",
              "      <td>0.377376</td>\n",
              "      <td>0.366683</td>\n",
              "    </tr>\n",
              "    <tr>\n",
              "      <th>4</th>\n",
              "      <td>0.635159</td>\n",
              "      <td>0.657060</td>\n",
              "      <td>0.482240</td>\n",
              "      <td>0.759716</td>\n",
              "      <td>0.460470</td>\n",
              "      <td>0.784821</td>\n",
              "      <td>0.958955</td>\n",
              "      <td>0.633316</td>\n",
              "      <td>0.711253</td>\n",
              "      <td>0.000459</td>\n",
              "      <td>...</td>\n",
              "      <td>0.464794</td>\n",
              "      <td>0.040608</td>\n",
              "      <td>0.054459</td>\n",
              "      <td>0.086850</td>\n",
              "      <td>0.634560</td>\n",
              "      <td>0.615256</td>\n",
              "      <td>0.710963</td>\n",
              "      <td>0.581443</td>\n",
              "      <td>0.485820</td>\n",
              "      <td>0.395128</td>\n",
              "    </tr>\n",
              "  </tbody>\n",
              "</table>\n",
              "<p>5 rows × 34 columns</p>\n",
              "</div>\n",
              "      <button class=\"colab-df-convert\" onclick=\"convertToInteractive('df-7301c45f-5f70-4449-bad4-9eee6557d6be')\"\n",
              "              title=\"Convert this dataframe to an interactive table.\"\n",
              "              style=\"display:none;\">\n",
              "        \n",
              "  <svg xmlns=\"http://www.w3.org/2000/svg\" height=\"24px\"viewBox=\"0 0 24 24\"\n",
              "       width=\"24px\">\n",
              "    <path d=\"M0 0h24v24H0V0z\" fill=\"none\"/>\n",
              "    <path d=\"M18.56 5.44l.94 2.06.94-2.06 2.06-.94-2.06-.94-.94-2.06-.94 2.06-2.06.94zm-11 1L8.5 8.5l.94-2.06 2.06-.94-2.06-.94L8.5 2.5l-.94 2.06-2.06.94zm10 10l.94 2.06.94-2.06 2.06-.94-2.06-.94-.94-2.06-.94 2.06-2.06.94z\"/><path d=\"M17.41 7.96l-1.37-1.37c-.4-.4-.92-.59-1.43-.59-.52 0-1.04.2-1.43.59L10.3 9.45l-7.72 7.72c-.78.78-.78 2.05 0 2.83L4 21.41c.39.39.9.59 1.41.59.51 0 1.02-.2 1.41-.59l7.78-7.78 2.81-2.81c.8-.78.8-2.07 0-2.86zM5.41 20L4 18.59l7.72-7.72 1.47 1.35L5.41 20z\"/>\n",
              "  </svg>\n",
              "      </button>\n",
              "      \n",
              "  <style>\n",
              "    .colab-df-container {\n",
              "      display:flex;\n",
              "      flex-wrap:wrap;\n",
              "      gap: 12px;\n",
              "    }\n",
              "\n",
              "    .colab-df-convert {\n",
              "      background-color: #E8F0FE;\n",
              "      border: none;\n",
              "      border-radius: 50%;\n",
              "      cursor: pointer;\n",
              "      display: none;\n",
              "      fill: #1967D2;\n",
              "      height: 32px;\n",
              "      padding: 0 0 0 0;\n",
              "      width: 32px;\n",
              "    }\n",
              "\n",
              "    .colab-df-convert:hover {\n",
              "      background-color: #E2EBFA;\n",
              "      box-shadow: 0px 1px 2px rgba(60, 64, 67, 0.3), 0px 1px 3px 1px rgba(60, 64, 67, 0.15);\n",
              "      fill: #174EA6;\n",
              "    }\n",
              "\n",
              "    [theme=dark] .colab-df-convert {\n",
              "      background-color: #3B4455;\n",
              "      fill: #D2E3FC;\n",
              "    }\n",
              "\n",
              "    [theme=dark] .colab-df-convert:hover {\n",
              "      background-color: #434B5C;\n",
              "      box-shadow: 0px 1px 3px 1px rgba(0, 0, 0, 0.15);\n",
              "      filter: drop-shadow(0px 1px 2px rgba(0, 0, 0, 0.3));\n",
              "      fill: #FFFFFF;\n",
              "    }\n",
              "  </style>\n",
              "\n",
              "      <script>\n",
              "        const buttonEl =\n",
              "          document.querySelector('#df-7301c45f-5f70-4449-bad4-9eee6557d6be button.colab-df-convert');\n",
              "        buttonEl.style.display =\n",
              "          google.colab.kernel.accessAllowed ? 'block' : 'none';\n",
              "\n",
              "        async function convertToInteractive(key) {\n",
              "          const element = document.querySelector('#df-7301c45f-5f70-4449-bad4-9eee6557d6be');\n",
              "          const dataTable =\n",
              "            await google.colab.kernel.invokeFunction('convertToInteractive',\n",
              "                                                     [key], {});\n",
              "          if (!dataTable) return;\n",
              "\n",
              "          const docLinkHtml = 'Like what you see? Visit the ' +\n",
              "            '<a target=\"_blank\" href=https://colab.research.google.com/notebooks/data_table.ipynb>data table notebook</a>'\n",
              "            + ' to learn more about interactive tables.';\n",
              "          element.innerHTML = '';\n",
              "          dataTable['output_type'] = 'display_data';\n",
              "          await google.colab.output.renderOutput(dataTable, element);\n",
              "          const docLink = document.createElement('div');\n",
              "          docLink.innerHTML = docLinkHtml;\n",
              "          element.appendChild(docLink);\n",
              "        }\n",
              "      </script>\n",
              "    </div>\n",
              "  </div>\n",
              "  "
            ]
          },
          "metadata": {},
          "execution_count": 8
        }
      ],
      "source": [
        "# Print the newly created DataFrame\n",
        "X.head()"
      ]
    },
    {
      "cell_type": "markdown",
      "metadata": {
        "id": "zcTH65iLvXZu"
      },
      "source": [
        "Our features are ready for training. Now, it's time to prepare the labels. \n",
        "\n",
        "📌 Print y to take a look at it."
      ]
    },
    {
      "cell_type": "code",
      "execution_count": 9,
      "metadata": {
        "id": "RCILYNj4jDsP",
        "colab": {
          "base_uri": "https://localhost:8080/"
        },
        "outputId": "48cb0ec8-0999-43f5-8c37-a3a1bc5635d5"
      },
      "outputs": [
        {
          "output_type": "execute_result",
          "data": {
            "text/plain": [
              "0      BERHI\n",
              "1      BERHI\n",
              "2      BERHI\n",
              "3      BERHI\n",
              "4      BERHI\n",
              "       ...  \n",
              "893    SOGAY\n",
              "894    SOGAY\n",
              "895    SOGAY\n",
              "896    SOGAY\n",
              "897    SOGAY\n",
              "Name: Class, Length: 898, dtype: object"
            ]
          },
          "metadata": {},
          "execution_count": 9
        }
      ],
      "source": [
        "# Print the y array\n",
        "y"
      ]
    },
    {
      "cell_type": "markdown",
      "metadata": {
        "id": "lw9GjCZWvlM0"
      },
      "source": [
        "Artificial intelligence algorithms can't use string data when training a model because no mathematical operations can be performed on them. \n",
        "\n",
        "📌 Use the LabelEncoder of the sklearn library to converting strings to integers."
      ]
    },
    {
      "cell_type": "code",
      "execution_count": 10,
      "metadata": {
        "id": "x2e_APXShCSJ"
      },
      "outputs": [],
      "source": [
        "# Create an LabelEncoder object.\n",
        "encoder = LabelEncoder()\n",
        "\n",
        "# Convert string classes to integers using fit_transform() method\n",
        "y = encoder.fit_transform(y)"
      ]
    },
    {
      "cell_type": "markdown",
      "metadata": {
        "id": "wwPUHY_Jymbs"
      },
      "source": [
        "Then, we print y to check the result."
      ]
    },
    {
      "cell_type": "code",
      "execution_count": 11,
      "metadata": {
        "id": "WfkUiTvyjPb9",
        "colab": {
          "base_uri": "https://localhost:8080/"
        },
        "outputId": "ed55f169-dede-479c-bb57-6c98cbb0b202"
      },
      "outputs": [
        {
          "output_type": "execute_result",
          "data": {
            "text/plain": [
              "array([0, 0, 0, 0, 0, 0, 0, 0, 0, 0, 0, 0, 0, 0, 0, 0, 0, 0, 0, 0, 0, 0,\n",
              "       0, 0, 0, 0, 0, 0, 0, 0, 0, 0, 0, 0, 0, 0, 0, 0, 0, 0, 0, 0, 0, 0,\n",
              "       0, 0, 0, 0, 0, 0, 0, 0, 0, 0, 0, 0, 0, 0, 0, 0, 0, 0, 0, 0, 0, 1,\n",
              "       1, 1, 1, 1, 1, 1, 1, 1, 1, 1, 1, 1, 1, 1, 1, 1, 1, 1, 1, 1, 1, 1,\n",
              "       1, 1, 1, 1, 1, 1, 1, 1, 1, 1, 1, 1, 1, 1, 1, 1, 1, 1, 1, 1, 1, 1,\n",
              "       1, 1, 1, 1, 1, 1, 1, 1, 1, 1, 1, 1, 1, 1, 1, 1, 1, 1, 1, 1, 1, 1,\n",
              "       1, 1, 1, 1, 1, 1, 1, 1, 1, 1, 1, 1, 1, 1, 1, 1, 1, 1, 1, 1, 1, 1,\n",
              "       1, 1, 1, 1, 1, 1, 1, 1, 1, 2, 2, 2, 2, 2, 2, 2, 2, 2, 2, 2, 2, 2,\n",
              "       2, 2, 2, 2, 2, 2, 2, 2, 2, 2, 2, 2, 2, 2, 2, 2, 2, 2, 2, 2, 2, 2,\n",
              "       2, 2, 2, 2, 2, 2, 2, 2, 2, 2, 2, 2, 2, 2, 2, 2, 2, 2, 2, 2, 2, 2,\n",
              "       2, 2, 2, 2, 2, 2, 2, 2, 2, 2, 2, 2, 2, 2, 2, 2, 2, 2, 2, 2, 2, 2,\n",
              "       2, 2, 2, 2, 2, 2, 2, 2, 2, 2, 2, 2, 2, 2, 2, 2, 2, 2, 2, 2, 2, 2,\n",
              "       2, 2, 2, 2, 2, 2, 2, 2, 2, 2, 2, 2, 2, 2, 2, 2, 2, 2, 2, 2, 2, 2,\n",
              "       2, 2, 2, 2, 2, 2, 2, 2, 2, 2, 2, 2, 2, 2, 2, 2, 2, 2, 2, 2, 2, 2,\n",
              "       2, 2, 2, 2, 2, 2, 2, 2, 2, 2, 2, 2, 2, 2, 2, 2, 2, 2, 2, 2, 2, 2,\n",
              "       2, 2, 2, 2, 2, 2, 2, 2, 2, 2, 2, 2, 2, 2, 2, 2, 2, 2, 2, 2, 2, 2,\n",
              "       2, 2, 2, 2, 2, 2, 2, 2, 2, 2, 2, 2, 2, 2, 2, 3, 3, 3, 3, 3, 3, 3,\n",
              "       3, 3, 3, 3, 3, 3, 3, 3, 3, 3, 3, 3, 3, 3, 3, 3, 3, 3, 3, 3, 3, 3,\n",
              "       3, 3, 3, 3, 3, 3, 3, 3, 3, 3, 3, 3, 3, 3, 3, 3, 3, 3, 3, 3, 3, 3,\n",
              "       3, 3, 3, 3, 3, 3, 3, 3, 3, 3, 3, 3, 3, 3, 3, 3, 3, 3, 3, 3, 3, 4,\n",
              "       4, 4, 4, 4, 4, 4, 4, 4, 4, 4, 4, 4, 4, 4, 4, 4, 4, 4, 4, 4, 4, 4,\n",
              "       4, 4, 4, 4, 4, 4, 4, 4, 4, 4, 4, 4, 4, 4, 4, 4, 4, 4, 4, 4, 4, 4,\n",
              "       4, 4, 4, 4, 4, 4, 4, 4, 4, 4, 4, 4, 4, 4, 4, 4, 4, 4, 4, 4, 4, 4,\n",
              "       4, 4, 4, 4, 4, 4, 4, 4, 4, 4, 4, 4, 4, 4, 4, 4, 4, 4, 4, 4, 4, 4,\n",
              "       4, 4, 4, 4, 4, 4, 4, 4, 4, 4, 4, 4, 4, 4, 4, 4, 4, 4, 4, 4, 4, 4,\n",
              "       4, 4, 4, 4, 4, 4, 4, 4, 4, 4, 4, 4, 4, 4, 4, 4, 4, 4, 4, 4, 4, 4,\n",
              "       4, 4, 4, 4, 4, 4, 4, 4, 4, 4, 4, 4, 4, 4, 4, 4, 4, 4, 4, 4, 4, 4,\n",
              "       4, 4, 4, 4, 4, 4, 4, 4, 4, 4, 4, 5, 5, 5, 5, 5, 5, 5, 5, 5, 5, 5,\n",
              "       5, 5, 5, 5, 5, 5, 5, 5, 5, 5, 5, 5, 5, 5, 5, 5, 5, 5, 5, 5, 5, 5,\n",
              "       5, 5, 5, 5, 5, 5, 5, 5, 5, 5, 5, 5, 5, 5, 5, 5, 5, 5, 5, 5, 5, 5,\n",
              "       5, 5, 5, 5, 5, 5, 5, 5, 5, 5, 5, 5, 5, 5, 5, 5, 5, 5, 5, 5, 5, 5,\n",
              "       5, 5, 5, 5, 5, 5, 5, 5, 5, 5, 5, 5, 5, 5, 5, 5, 5, 5, 5, 5, 5, 5,\n",
              "       5, 5, 5, 5, 5, 5, 5, 5, 5, 5, 5, 5, 5, 5, 5, 5, 5, 5, 5, 5, 5, 5,\n",
              "       5, 5, 5, 5, 5, 5, 5, 5, 5, 5, 5, 5, 5, 5, 5, 5, 5, 5, 5, 5, 5, 5,\n",
              "       5, 5, 5, 5, 5, 5, 5, 5, 5, 5, 5, 5, 5, 5, 5, 5, 5, 5, 5, 5, 5, 5,\n",
              "       5, 5, 5, 5, 5, 5, 5, 5, 5, 5, 5, 5, 5, 5, 5, 5, 5, 5, 5, 5, 5, 5,\n",
              "       5, 5, 5, 5, 5, 5, 5, 5, 5, 5, 5, 5, 6, 6, 6, 6, 6, 6, 6, 6, 6, 6,\n",
              "       6, 6, 6, 6, 6, 6, 6, 6, 6, 6, 6, 6, 6, 6, 6, 6, 6, 6, 6, 6, 6, 6,\n",
              "       6, 6, 6, 6, 6, 6, 6, 6, 6, 6, 6, 6, 6, 6, 6, 6, 6, 6, 6, 6, 6, 6,\n",
              "       6, 6, 6, 6, 6, 6, 6, 6, 6, 6, 6, 6, 6, 6, 6, 6, 6, 6, 6, 6, 6, 6,\n",
              "       6, 6, 6, 6, 6, 6, 6, 6, 6, 6, 6, 6, 6, 6, 6, 6, 6, 6])"
            ]
          },
          "metadata": {},
          "execution_count": 11
        }
      ],
      "source": [
        "# Print the y array (encoded)\n",
        "y"
      ]
    },
    {
      "cell_type": "markdown",
      "metadata": {
        "id": "0NfpeVE_ypir"
      },
      "source": [
        "### Splitting\n",
        "\n",
        "Great, that worked out as we wanted it. Now, we split the dataset into training, validation and test datasets. In general, the ratio for splitting is 80% for training, 10% for validation and 10% for test sets.\n",
        "\n",
        "📌 Use train_test_split function of the sklearn library.\n"
      ]
    },
    {
      "cell_type": "code",
      "execution_count": 12,
      "metadata": {
        "id": "iFRZLiO_klnk"
      },
      "outputs": [],
      "source": [
        "# First, create X_train, y_train and X_temporary and y_temporary datasets from X and y.\n",
        "X_train, X_temporary, y_train, y_temporary = train_test_split(X,y, train_size=0.8)\n",
        "\n",
        "# Using the X_temporary and y_temporary dataset we just created create validaiton and test datasets.\n",
        "X_val, X_test, y_val, y_test = train_test_split(X_temporary, y_temporary, train_size=0.5)"
      ]
    },
    {
      "cell_type": "markdown",
      "metadata": {
        "id": "tKtZg8nF_BeZ"
      },
      "source": [
        "Let's print the total length of the initial dataset and lengths of the newly created datasets to check our results.\n",
        "\n",
        "📌 Use the len() function to print the lengths."
      ]
    },
    {
      "cell_type": "code",
      "execution_count": 13,
      "metadata": {
        "id": "WK9RR2vA86yX",
        "colab": {
          "base_uri": "https://localhost:8080/"
        },
        "outputId": "d45e1490-0dd2-4ce9-a5e4-5afbc6cc8af6"
      },
      "outputs": [
        {
          "output_type": "stream",
          "name": "stdout",
          "text": [
            "Length of dataset:898\n",
            "Length of training dataset: 718\n",
            "Length of validation dataset: 90\n",
            "Length of the test dataset: 90\n"
          ]
        }
      ],
      "source": [
        "# Print the lengths of the X, X_train, X_val and X_test\n",
        "print(f\"Length of dataset:{len(X)}\")\n",
        "print(f\"Length of training dataset: {len(X_train)}\")\n",
        "print(f\"Length of validation dataset: {len(X_val)}\")\n",
        "print(f\"Length of the test dataset: {len(X_test)}\")"
      ]
    },
    {
      "cell_type": "markdown",
      "metadata": {
        "id": "Ws-STiHNNVeo"
      },
      "source": [
        "## Constructing the neural network\n",
        "And with that, our data is ready to be used in a model. We can move on to the exciting part: constructing a deep learning model. We’ll use TensorFlow for this. To speed up the training time, activate the GPU of Google Colab.\n",
        "\n",
        "📌 Import TensorFlow"
      ]
    },
    {
      "cell_type": "code",
      "execution_count": 14,
      "metadata": {
        "id": "2f_geu61KPAh"
      },
      "outputs": [],
      "source": [
        "# Import TensorFlow\n",
        "import tensorflow as tf"
      ]
    },
    {
      "cell_type": "markdown",
      "metadata": {
        "id": "3KdShqduXUeA"
      },
      "source": [
        "Let's start by creating a model object using Sequential API of Keras.\n",
        "\n",
        "📌 Use tf.keras.Sequential() to create a model object"
      ]
    },
    {
      "cell_type": "code",
      "execution_count": 15,
      "metadata": {
        "id": "3LMy6iobKUkU"
      },
      "outputs": [],
      "source": [
        "# Create a model object\n",
        "model = tf.keras.Sequential()"
      ]
    },
    {
      "cell_type": "markdown",
      "metadata": {
        "id": "x_VqBFFMfSpT"
      },
      "source": [
        "### Input layer\n",
        "First, we construct an input layer and assign it to a variable. The first argument is the number of nodes we want in that hidden layer. Only for the input layer, we have to set the input_shape argument which is the number of columns, in this case, 34. For the activation function, we specify “ReLU”.\n",
        "\n",
        "📌 Use tf.keras.layers.Dense() to create the layer.\n",
        "\n",
        "📌 Use .add() method of the object to add the layer."
      ]
    },
    {
      "cell_type": "code",
      "execution_count": 16,
      "metadata": {
        "id": "JCpGKPkLVIwe"
      },
      "outputs": [],
      "source": [
        "# Create an input layer\n",
        "input_layer = tf.keras.layers.Dense(4096,input_shape=(34,),activation=\"relu\")\n",
        "\n",
        "# Add input layer to model object\n",
        "model.add(input_layer)"
      ]
    },
    {
      "cell_type": "markdown",
      "metadata": {
        "id": "oGBlwZvTkYIf"
      },
      "source": [
        "### Hidden layers\n",
        "Next, we need to add the hidden layers. We'll add 4 hidden layers each with 4096 nodes. Again, we specify ReLU as the activation functions and 0.5 dropouts.\n",
        "\n",
        "📌 Use tf.keras.layers.Dense() to create the layers.\n",
        "\n",
        "📌 Use .add() method of the object to add the layer.\n"
      ]
    },
    {
      "cell_type": "code",
      "execution_count": 17,
      "metadata": {
        "id": "SbuFh_whLwOM"
      },
      "outputs": [],
      "source": [
        "# Add the first hidden layer with 4096 nodes and relu activation function\n",
        "model.add(tf.keras.layers.Dense(4096,activation=\"relu\"))\n",
        "# Add 0.5 dropout\n",
        "model.add(tf.keras.layers.Dropout(0.5))\n",
        "\n",
        "# Add the second hidden layer with 4096 nodes and relu activation function\n",
        "model.add(tf.keras.layers.Dense(4096,activation=\"relu\"))\n",
        "# Add 0.5 dropout\n",
        "model.add(tf.keras.layers.Dropout(0.5))\n",
        "\n",
        "# Add the third hidden layer with 4096 nodes and relu activation function\n",
        "model.add(tf.keras.layers.Dense(4096,activation=\"relu\"))\n",
        "# Add 0.5 dropout\n",
        "model.add(tf.keras.layers.Dropout(0.5))\n",
        "\n",
        "# Add the fourth hidden layer with 4096 nodes and relu activation function\n",
        "model.add(tf.keras.layers.Dense(4096,activation=\"relu\"))\n",
        "# Add 0.5 dropout\n",
        "model.add(tf.keras.layers.Dropout(0.5))"
      ]
    },
    {
      "cell_type": "markdown",
      "metadata": {
        "id": "mfphgI_KkssX"
      },
      "source": [
        "### Output layer\n",
        "As the last part of our neural network, we add the output layer. The number of nodes will be equal to the number of target classes which is 7 in our case. We'll use the softmax activation function in the output layer."
      ]
    },
    {
      "cell_type": "code",
      "execution_count": 18,
      "metadata": {
        "id": "AjNfsMhNksPU"
      },
      "outputs": [],
      "source": [
        "# Add the output layer\n",
        "model.add(tf.keras.layers.Dense(7, activation=\"softmax\"))"
      ]
    },
    {
      "cell_type": "markdown",
      "metadata": {
        "id": "O50WAP5MqJx-"
      },
      "source": [
        "### Optimizer\n",
        "Now we have the structure of our model. To configure the model for training, we'll use the *.compile()* method. Inside the compile method, we have to define the following:\n",
        "*   \"Adam\" for optimizer\n",
        "*   \"Sparse Categorical Crossentropy\" for the loss function\n",
        "\n",
        "\n",
        "📌 Construct the model with the .compile() method."
      ]
    },
    {
      "cell_type": "code",
      "execution_count": 19,
      "metadata": {
        "id": "nO9UlFcyMywd"
      },
      "outputs": [],
      "source": [
        "# Compile the model\n",
        "model.compile(optimizer=\"adam\",loss=\"sparse_categorical_crossentropy\",metrics=[\"accuracy\"])"
      ]
    },
    {
      "cell_type": "markdown",
      "metadata": {
        "id": "wPtfvJTQf_T2"
      },
      "source": []
    },
    {
      "cell_type": "markdown",
      "metadata": {
        "id": "eeIShBi8y_nG"
      },
      "source": [
        "## Training the model\n",
        "\n",
        "It's time to train the model. We'll give the X_train and y_train datasets as the first two arguments. These will be used for training. And with the *validation_data* parameter, we'll give the X_val and y_val as a tuple.\n",
        "\n",
        "📌 Use .fit() method of the model object for the training."
      ]
    },
    {
      "cell_type": "code",
      "execution_count": 20,
      "metadata": {
        "id": "1huRsT3CT_Nq",
        "colab": {
          "base_uri": "https://localhost:8080/"
        },
        "outputId": "efd3484b-9e1a-4f84-e526-921b1dec5063"
      },
      "outputs": [
        {
          "output_type": "stream",
          "name": "stdout",
          "text": [
            "Epoch 1/100\n",
            "23/23 [==============================] - 4s 28ms/step - loss: 1.8570 - accuracy: 0.3468 - val_loss: 1.1182 - val_accuracy: 0.6222\n",
            "Epoch 2/100\n",
            "23/23 [==============================] - 0s 18ms/step - loss: 0.8966 - accuracy: 0.6518 - val_loss: 0.7091 - val_accuracy: 0.7111\n",
            "Epoch 3/100\n",
            "23/23 [==============================] - 0s 18ms/step - loss: 0.7003 - accuracy: 0.7159 - val_loss: 0.5511 - val_accuracy: 0.7444\n",
            "Epoch 4/100\n",
            "23/23 [==============================] - 0s 18ms/step - loss: 0.5999 - accuracy: 0.7632 - val_loss: 0.4399 - val_accuracy: 0.8111\n",
            "Epoch 5/100\n",
            "23/23 [==============================] - 0s 18ms/step - loss: 0.5507 - accuracy: 0.7758 - val_loss: 0.5681 - val_accuracy: 0.7333\n",
            "Epoch 6/100\n",
            "23/23 [==============================] - 0s 17ms/step - loss: 0.5358 - accuracy: 0.7841 - val_loss: 0.4684 - val_accuracy: 0.7556\n",
            "Epoch 7/100\n",
            "23/23 [==============================] - 0s 18ms/step - loss: 0.4879 - accuracy: 0.8148 - val_loss: 0.4917 - val_accuracy: 0.8000\n",
            "Epoch 8/100\n",
            "23/23 [==============================] - 0s 18ms/step - loss: 0.5093 - accuracy: 0.7953 - val_loss: 0.3194 - val_accuracy: 0.8444\n",
            "Epoch 9/100\n",
            "23/23 [==============================] - 0s 18ms/step - loss: 0.4004 - accuracy: 0.8468 - val_loss: 0.4228 - val_accuracy: 0.8333\n",
            "Epoch 10/100\n",
            "23/23 [==============================] - 0s 18ms/step - loss: 0.4542 - accuracy: 0.8273 - val_loss: 0.3333 - val_accuracy: 0.8778\n",
            "Epoch 11/100\n",
            "23/23 [==============================] - 0s 18ms/step - loss: 0.4473 - accuracy: 0.8343 - val_loss: 0.3130 - val_accuracy: 0.8667\n",
            "Epoch 12/100\n",
            "23/23 [==============================] - 0s 18ms/step - loss: 0.4460 - accuracy: 0.8106 - val_loss: 0.3520 - val_accuracy: 0.8667\n",
            "Epoch 13/100\n",
            "23/23 [==============================] - 0s 18ms/step - loss: 0.4574 - accuracy: 0.8440 - val_loss: 0.4738 - val_accuracy: 0.8222\n",
            "Epoch 14/100\n",
            "23/23 [==============================] - 0s 18ms/step - loss: 0.4961 - accuracy: 0.8078 - val_loss: 0.3298 - val_accuracy: 0.8889\n",
            "Epoch 15/100\n",
            "23/23 [==============================] - 0s 18ms/step - loss: 0.4282 - accuracy: 0.8384 - val_loss: 0.2854 - val_accuracy: 0.9111\n",
            "Epoch 16/100\n",
            "23/23 [==============================] - 0s 18ms/step - loss: 0.3413 - accuracy: 0.8621 - val_loss: 0.3490 - val_accuracy: 0.8222\n",
            "Epoch 17/100\n",
            "23/23 [==============================] - 0s 19ms/step - loss: 0.3343 - accuracy: 0.8760 - val_loss: 0.3497 - val_accuracy: 0.8667\n",
            "Epoch 18/100\n",
            "23/23 [==============================] - 0s 18ms/step - loss: 0.4031 - accuracy: 0.8482 - val_loss: 0.3032 - val_accuracy: 0.8778\n",
            "Epoch 19/100\n",
            "23/23 [==============================] - 0s 18ms/step - loss: 0.5016 - accuracy: 0.8189 - val_loss: 0.4826 - val_accuracy: 0.7889\n",
            "Epoch 20/100\n",
            "23/23 [==============================] - 0s 18ms/step - loss: 0.4068 - accuracy: 0.8468 - val_loss: 0.2518 - val_accuracy: 0.9222\n",
            "Epoch 21/100\n",
            "23/23 [==============================] - 0s 18ms/step - loss: 0.3565 - accuracy: 0.8802 - val_loss: 0.3396 - val_accuracy: 0.8778\n",
            "Epoch 22/100\n",
            "23/23 [==============================] - 0s 18ms/step - loss: 0.3287 - accuracy: 0.8691 - val_loss: 0.4001 - val_accuracy: 0.8778\n",
            "Epoch 23/100\n",
            "23/23 [==============================] - 0s 18ms/step - loss: 0.4193 - accuracy: 0.8621 - val_loss: 0.2505 - val_accuracy: 0.9000\n",
            "Epoch 24/100\n",
            "23/23 [==============================] - 0s 18ms/step - loss: 0.3456 - accuracy: 0.8858 - val_loss: 0.4558 - val_accuracy: 0.8111\n",
            "Epoch 25/100\n",
            "23/23 [==============================] - 0s 18ms/step - loss: 0.4094 - accuracy: 0.8663 - val_loss: 0.2923 - val_accuracy: 0.8556\n",
            "Epoch 26/100\n",
            "23/23 [==============================] - 0s 18ms/step - loss: 0.3502 - accuracy: 0.8760 - val_loss: 0.3974 - val_accuracy: 0.8667\n",
            "Epoch 27/100\n",
            "23/23 [==============================] - 0s 18ms/step - loss: 0.4059 - accuracy: 0.8510 - val_loss: 0.4153 - val_accuracy: 0.8556\n",
            "Epoch 28/100\n",
            "23/23 [==============================] - 0s 18ms/step - loss: 0.3409 - accuracy: 0.8691 - val_loss: 0.2805 - val_accuracy: 0.9111\n",
            "Epoch 29/100\n",
            "23/23 [==============================] - 0s 18ms/step - loss: 0.3306 - accuracy: 0.8858 - val_loss: 0.2229 - val_accuracy: 0.9222\n",
            "Epoch 30/100\n",
            "23/23 [==============================] - 0s 18ms/step - loss: 0.3147 - accuracy: 0.8788 - val_loss: 0.2514 - val_accuracy: 0.9111\n",
            "Epoch 31/100\n",
            "23/23 [==============================] - 0s 18ms/step - loss: 0.3260 - accuracy: 0.8900 - val_loss: 0.3112 - val_accuracy: 0.8556\n",
            "Epoch 32/100\n",
            "23/23 [==============================] - 0s 18ms/step - loss: 0.3383 - accuracy: 0.8802 - val_loss: 0.2797 - val_accuracy: 0.8889\n",
            "Epoch 33/100\n",
            "23/23 [==============================] - 0s 18ms/step - loss: 0.3476 - accuracy: 0.8802 - val_loss: 0.3350 - val_accuracy: 0.8778\n",
            "Epoch 34/100\n",
            "23/23 [==============================] - 0s 18ms/step - loss: 0.3102 - accuracy: 0.8928 - val_loss: 0.1662 - val_accuracy: 0.9333\n",
            "Epoch 35/100\n",
            "23/23 [==============================] - 0s 18ms/step - loss: 0.3105 - accuracy: 0.8942 - val_loss: 0.3523 - val_accuracy: 0.8556\n",
            "Epoch 36/100\n",
            "23/23 [==============================] - 0s 18ms/step - loss: 0.3086 - accuracy: 0.8844 - val_loss: 0.4306 - val_accuracy: 0.8444\n",
            "Epoch 37/100\n",
            "23/23 [==============================] - 0s 19ms/step - loss: 0.2939 - accuracy: 0.8886 - val_loss: 0.1895 - val_accuracy: 0.9111\n",
            "Epoch 38/100\n",
            "23/23 [==============================] - 0s 19ms/step - loss: 0.3070 - accuracy: 0.8900 - val_loss: 0.2987 - val_accuracy: 0.8556\n",
            "Epoch 39/100\n",
            "23/23 [==============================] - 0s 18ms/step - loss: 0.3797 - accuracy: 0.8621 - val_loss: 0.4357 - val_accuracy: 0.8778\n",
            "Epoch 40/100\n",
            "23/23 [==============================] - 0s 18ms/step - loss: 0.3489 - accuracy: 0.8733 - val_loss: 0.2562 - val_accuracy: 0.8444\n",
            "Epoch 41/100\n",
            "23/23 [==============================] - 0s 20ms/step - loss: 0.3514 - accuracy: 0.8705 - val_loss: 0.2136 - val_accuracy: 0.9111\n",
            "Epoch 42/100\n",
            "23/23 [==============================] - 0s 18ms/step - loss: 0.2306 - accuracy: 0.9150 - val_loss: 0.2242 - val_accuracy: 0.9222\n",
            "Epoch 43/100\n",
            "23/23 [==============================] - 0s 18ms/step - loss: 0.3142 - accuracy: 0.9025 - val_loss: 0.3084 - val_accuracy: 0.8667\n",
            "Epoch 44/100\n",
            "23/23 [==============================] - 0s 17ms/step - loss: 0.3223 - accuracy: 0.8788 - val_loss: 0.4811 - val_accuracy: 0.8556\n",
            "Epoch 45/100\n",
            "23/23 [==============================] - 0s 18ms/step - loss: 0.3801 - accuracy: 0.8579 - val_loss: 0.2644 - val_accuracy: 0.8889\n",
            "Epoch 46/100\n",
            "23/23 [==============================] - 0s 18ms/step - loss: 0.2815 - accuracy: 0.9081 - val_loss: 0.2446 - val_accuracy: 0.9000\n",
            "Epoch 47/100\n",
            "23/23 [==============================] - 0s 18ms/step - loss: 0.2807 - accuracy: 0.8997 - val_loss: 0.2204 - val_accuracy: 0.9222\n",
            "Epoch 48/100\n",
            "23/23 [==============================] - 0s 18ms/step - loss: 0.2651 - accuracy: 0.9150 - val_loss: 0.1933 - val_accuracy: 0.9444\n",
            "Epoch 49/100\n",
            "23/23 [==============================] - 0s 17ms/step - loss: 0.2622 - accuracy: 0.8928 - val_loss: 0.2025 - val_accuracy: 0.9111\n",
            "Epoch 50/100\n",
            "23/23 [==============================] - 0s 18ms/step - loss: 0.3468 - accuracy: 0.8816 - val_loss: 0.2905 - val_accuracy: 0.8778\n",
            "Epoch 51/100\n",
            "23/23 [==============================] - 0s 18ms/step - loss: 0.2583 - accuracy: 0.9095 - val_loss: 0.1818 - val_accuracy: 0.9222\n",
            "Epoch 52/100\n",
            "23/23 [==============================] - 0s 18ms/step - loss: 0.2775 - accuracy: 0.8955 - val_loss: 0.2198 - val_accuracy: 0.9000\n",
            "Epoch 53/100\n",
            "23/23 [==============================] - 0s 18ms/step - loss: 0.2570 - accuracy: 0.9164 - val_loss: 0.2747 - val_accuracy: 0.8667\n",
            "Epoch 54/100\n",
            "23/23 [==============================] - 0s 17ms/step - loss: 0.2595 - accuracy: 0.9109 - val_loss: 0.2681 - val_accuracy: 0.9000\n",
            "Epoch 55/100\n",
            "23/23 [==============================] - 0s 18ms/step - loss: 0.2788 - accuracy: 0.9081 - val_loss: 0.1696 - val_accuracy: 0.9556\n",
            "Epoch 56/100\n",
            "23/23 [==============================] - 0s 17ms/step - loss: 0.3141 - accuracy: 0.8886 - val_loss: 0.2924 - val_accuracy: 0.8889\n",
            "Epoch 57/100\n",
            "23/23 [==============================] - 0s 18ms/step - loss: 0.2575 - accuracy: 0.9150 - val_loss: 0.2455 - val_accuracy: 0.9222\n",
            "Epoch 58/100\n",
            "23/23 [==============================] - 0s 18ms/step - loss: 0.3248 - accuracy: 0.8955 - val_loss: 0.2809 - val_accuracy: 0.9222\n",
            "Epoch 59/100\n",
            "23/23 [==============================] - 0s 18ms/step - loss: 0.2874 - accuracy: 0.8928 - val_loss: 0.2176 - val_accuracy: 0.9000\n",
            "Epoch 60/100\n",
            "23/23 [==============================] - 0s 18ms/step - loss: 0.2877 - accuracy: 0.8928 - val_loss: 0.2826 - val_accuracy: 0.8778\n",
            "Epoch 61/100\n",
            "23/23 [==============================] - 0s 18ms/step - loss: 0.2317 - accuracy: 0.9178 - val_loss: 0.4438 - val_accuracy: 0.8667\n",
            "Epoch 62/100\n",
            "23/23 [==============================] - 0s 18ms/step - loss: 0.3324 - accuracy: 0.8914 - val_loss: 0.2519 - val_accuracy: 0.8889\n",
            "Epoch 63/100\n",
            "23/23 [==============================] - 0s 18ms/step - loss: 0.2341 - accuracy: 0.9206 - val_loss: 0.1886 - val_accuracy: 0.9444\n",
            "Epoch 64/100\n",
            "23/23 [==============================] - 0s 18ms/step - loss: 0.2782 - accuracy: 0.9025 - val_loss: 0.2146 - val_accuracy: 0.9222\n",
            "Epoch 65/100\n",
            "23/23 [==============================] - 0s 18ms/step - loss: 0.3095 - accuracy: 0.8788 - val_loss: 0.2582 - val_accuracy: 0.9222\n",
            "Epoch 66/100\n",
            "23/23 [==============================] - 0s 18ms/step - loss: 0.3168 - accuracy: 0.8747 - val_loss: 0.4545 - val_accuracy: 0.8444\n",
            "Epoch 67/100\n",
            "23/23 [==============================] - 0s 18ms/step - loss: 0.2881 - accuracy: 0.8942 - val_loss: 0.4437 - val_accuracy: 0.8444\n",
            "Epoch 68/100\n",
            "23/23 [==============================] - 0s 18ms/step - loss: 0.2578 - accuracy: 0.9136 - val_loss: 0.2429 - val_accuracy: 0.8667\n",
            "Epoch 69/100\n",
            "23/23 [==============================] - 0s 18ms/step - loss: 0.2875 - accuracy: 0.8955 - val_loss: 0.3128 - val_accuracy: 0.8778\n",
            "Epoch 70/100\n",
            "23/23 [==============================] - 0s 18ms/step - loss: 0.2849 - accuracy: 0.8997 - val_loss: 0.3287 - val_accuracy: 0.8889\n",
            "Epoch 71/100\n",
            "23/23 [==============================] - 0s 19ms/step - loss: 0.2959 - accuracy: 0.8955 - val_loss: 0.5080 - val_accuracy: 0.8000\n",
            "Epoch 72/100\n",
            "23/23 [==============================] - 0s 18ms/step - loss: 0.3138 - accuracy: 0.8872 - val_loss: 0.2542 - val_accuracy: 0.9222\n",
            "Epoch 73/100\n",
            "23/23 [==============================] - 0s 18ms/step - loss: 0.2163 - accuracy: 0.9150 - val_loss: 0.1651 - val_accuracy: 0.9222\n",
            "Epoch 74/100\n",
            "23/23 [==============================] - 0s 18ms/step - loss: 0.2361 - accuracy: 0.9150 - val_loss: 0.3290 - val_accuracy: 0.9222\n",
            "Epoch 75/100\n",
            "23/23 [==============================] - 0s 18ms/step - loss: 0.2575 - accuracy: 0.9136 - val_loss: 0.3683 - val_accuracy: 0.8222\n",
            "Epoch 76/100\n",
            "23/23 [==============================] - 0s 18ms/step - loss: 0.2592 - accuracy: 0.9095 - val_loss: 0.2362 - val_accuracy: 0.9111\n",
            "Epoch 77/100\n",
            "23/23 [==============================] - 0s 18ms/step - loss: 0.2475 - accuracy: 0.9136 - val_loss: 0.1965 - val_accuracy: 0.9444\n",
            "Epoch 78/100\n",
            "23/23 [==============================] - 0s 18ms/step - loss: 0.2692 - accuracy: 0.9109 - val_loss: 0.1697 - val_accuracy: 0.9333\n",
            "Epoch 79/100\n",
            "23/23 [==============================] - 0s 18ms/step - loss: 0.2487 - accuracy: 0.9150 - val_loss: 0.2289 - val_accuracy: 0.8778\n",
            "Epoch 80/100\n",
            "23/23 [==============================] - 0s 18ms/step - loss: 0.2776 - accuracy: 0.8955 - val_loss: 0.2839 - val_accuracy: 0.8778\n",
            "Epoch 81/100\n",
            "23/23 [==============================] - 0s 18ms/step - loss: 0.3226 - accuracy: 0.8747 - val_loss: 0.2481 - val_accuracy: 0.8889\n",
            "Epoch 82/100\n",
            "23/23 [==============================] - 0s 18ms/step - loss: 0.2805 - accuracy: 0.9206 - val_loss: 0.2765 - val_accuracy: 0.8889\n",
            "Epoch 83/100\n",
            "23/23 [==============================] - 0s 17ms/step - loss: 0.2569 - accuracy: 0.9081 - val_loss: 0.3238 - val_accuracy: 0.9111\n",
            "Epoch 84/100\n",
            "23/23 [==============================] - 0s 18ms/step - loss: 0.2183 - accuracy: 0.9136 - val_loss: 0.1590 - val_accuracy: 0.9222\n",
            "Epoch 85/100\n",
            "23/23 [==============================] - 0s 18ms/step - loss: 0.3099 - accuracy: 0.9067 - val_loss: 0.2814 - val_accuracy: 0.8556\n",
            "Epoch 86/100\n",
            "23/23 [==============================] - 0s 18ms/step - loss: 0.3430 - accuracy: 0.8733 - val_loss: 0.2917 - val_accuracy: 0.9111\n",
            "Epoch 87/100\n",
            "23/23 [==============================] - 0s 18ms/step - loss: 0.2764 - accuracy: 0.9025 - val_loss: 0.1692 - val_accuracy: 0.9333\n",
            "Epoch 88/100\n",
            "23/23 [==============================] - 0s 18ms/step - loss: 0.2388 - accuracy: 0.9192 - val_loss: 0.2865 - val_accuracy: 0.8889\n",
            "Epoch 89/100\n",
            "23/23 [==============================] - 0s 18ms/step - loss: 0.1875 - accuracy: 0.9276 - val_loss: 0.3510 - val_accuracy: 0.8889\n",
            "Epoch 90/100\n",
            "23/23 [==============================] - 0s 18ms/step - loss: 0.2788 - accuracy: 0.8997 - val_loss: 0.1988 - val_accuracy: 0.8889\n",
            "Epoch 91/100\n",
            "23/23 [==============================] - 0s 18ms/step - loss: 0.2867 - accuracy: 0.8969 - val_loss: 0.2118 - val_accuracy: 0.9222\n",
            "Epoch 92/100\n",
            "23/23 [==============================] - 0s 21ms/step - loss: 0.3691 - accuracy: 0.8788 - val_loss: 0.4475 - val_accuracy: 0.8667\n",
            "Epoch 93/100\n",
            "23/23 [==============================] - 0s 20ms/step - loss: 0.2368 - accuracy: 0.9081 - val_loss: 0.3818 - val_accuracy: 0.8667\n",
            "Epoch 94/100\n",
            "23/23 [==============================] - 1s 24ms/step - loss: 0.2182 - accuracy: 0.9178 - val_loss: 0.3716 - val_accuracy: 0.8889\n",
            "Epoch 95/100\n",
            "23/23 [==============================] - 0s 18ms/step - loss: 0.2121 - accuracy: 0.9164 - val_loss: 0.3679 - val_accuracy: 0.8667\n",
            "Epoch 96/100\n",
            "23/23 [==============================] - 1s 22ms/step - loss: 0.2187 - accuracy: 0.9136 - val_loss: 0.1923 - val_accuracy: 0.9111\n",
            "Epoch 97/100\n",
            "23/23 [==============================] - 0s 18ms/step - loss: 0.2702 - accuracy: 0.9025 - val_loss: 0.1959 - val_accuracy: 0.9444\n",
            "Epoch 98/100\n",
            "23/23 [==============================] - 0s 18ms/step - loss: 0.2180 - accuracy: 0.9248 - val_loss: 0.2148 - val_accuracy: 0.9222\n",
            "Epoch 99/100\n",
            "23/23 [==============================] - 0s 18ms/step - loss: 0.1697 - accuracy: 0.9318 - val_loss: 0.2973 - val_accuracy: 0.9000\n",
            "Epoch 100/100\n",
            "23/23 [==============================] - 0s 18ms/step - loss: 0.1940 - accuracy: 0.9206 - val_loss: 0.3401 - val_accuracy: 0.9222\n"
          ]
        }
      ],
      "source": [
        "# Train the model for 100 epochs \n",
        "results= model.fit(X_train, y_train, epochs=100, validation_data=(X_val,y_val))"
      ]
    },
    {
      "cell_type": "markdown",
      "metadata": {
        "id": "rYIh2nkQYsu-"
      },
      "source": [
        "### Visualize the results\n",
        "\n",
        "After the model is trained, we can create a graph to visualize the change of loss over time. Results are held in:\n",
        "* results.history[\"loss\"]\n",
        "* results.history[\"val_loss\"]\n",
        "\n",
        "📌 Use plt.show() to display the graph."
      ]
    },
    {
      "cell_type": "code",
      "execution_count": 21,
      "metadata": {
        "id": "uzfcUsLdjvmX",
        "colab": {
          "base_uri": "https://localhost:8080/",
          "height": 279
        },
        "outputId": "e782ac55-2328-426d-b5ed-eea4b0a97ff1"
      },
      "outputs": [
        {
          "output_type": "display_data",
          "data": {
            "text/plain": [
              "<Figure size 432x288 with 1 Axes>"
            ],
            "image/png": "[encoded data removed]"
          },
          "metadata": {
            "needs_background": "light"
          }
        }
      ],
      "source": [
        "# Plot the the training loss\n",
        "plt.plot(results.history[\"loss\"], label=\"Train\")\n",
        "# Plot the the validation loss\n",
        "plt.plot(results.history[\"val_loss\"], label=\"Test\")\n",
        "# Name the x and y axises\n",
        "plt.ylabel(\"Loss\")\n",
        "plt.xlabel(\"Epoch\")\n",
        "# Put legend table\n",
        "plt.legend()\n",
        "\n",
        "# Show the plot\n",
        "plt.show()"
      ]
    },
    {
      "cell_type": "markdown",
      "metadata": {
        "id": "pEPY1Jmh-aBW"
      },
      "source": [
        "## Performance evaluation\n",
        "\n",
        "Finally, we are going to use the test dataset we created to evaluate the performance of the model.\n",
        "\n",
        "📌 Use test_on_batch() method with test dataset as parameter"
      ]
    },
    {
      "cell_type": "code",
      "execution_count": 22,
      "metadata": {
        "id": "4STruM9vy_3l",
        "colab": {
          "base_uri": "https://localhost:8080/"
        },
        "outputId": "88e2ada5-4868-4633-c2fb-68511e424b28"
      },
      "outputs": [
        {
          "output_type": "stream",
          "name": "stdout",
          "text": [
            "[0.2560669779777527, 0.8777777552604675]\n"
          ]
        }
      ],
      "source": [
        "# Evaluate the performance\n",
        "test_result = model.test_on_batch(X_test,y_test)\n",
        "# Print the result\n",
        "print(test_result)"
      ]
    }
  ],
  "metadata": {
    "accelerator": "GPU",
    "colab": {
      "collapsed_sections": [],
      "provenance": []
    },
    "gpuClass": "standard",
    "kernelspec": {
      "display_name": "Python 3 (ipykernel)",
      "language": "python",
      "name": "python3"
    },
    "language_info": {
      "codemirror_mode": {
        "name": "ipython",
        "version": 3
      },
      "file_extension": ".py",
      "mimetype": "text/x-python",
      "name": "python",
      "nbconvert_exporter": "python",
      "pygments_lexer": "ipython3",
      "version": "3.9.12"
    }
  },
  "nbformat": 4,
  "nbformat_minor": 0
}